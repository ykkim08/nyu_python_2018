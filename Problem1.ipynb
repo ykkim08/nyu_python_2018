{
 "cells": [
  {
   "cell_type": "code",
   "execution_count": 2,
   "metadata": {},
   "outputs": [],
   "source": [
    "# Define print_dictionary function\n",
    "def print_dictionary(mydictionary):\n",
    "    for key, value in mydictionary.items():\n",
    "        print('{} : {}'.format(key, value))"
   ]
  },
  {
   "cell_type": "code",
   "execution_count": 3,
   "metadata": {},
   "outputs": [],
   "source": [
    "python_glossary = {'Dictionary': 'A collection of key-value pairs.',\n",
    " 'String': 'A series of characters.',\n",
    " 'Boolean Expression': ' An expression that evaluates to True or False.',\n",
    " 'Comment': 'A note in a program that the Python interpreter ignores.',\n",
    " 'Value': 'An item associated with a key in a dictionary.',\n",
    " 'Loop': 'Work through a collection of items, one at a time. ',\n",
    " 'List': 'A collection of items in a particular order.',\n",
    " 'Key': 'The first item in a key-value pair in a dictionary.',\n",
    " 'Float': 'A numerical value with a decimal component.',\n",
    " 'Def': 'Defines a function or method',\n",
    " 'function': 'A parameterized sequence of statements.',\n",
    " 'int': 'An immutable integer of unlimited magnitude.',\n",
    " 'slice': 'Sub parts of sequences',\n",
    " 'variables': 'Placeholder for texts and numbers.',\n",
    " 'if statement': 'Conditionally executes a block of code, along with else and elif'}"
   ]
  },
  {
   "cell_type": "code",
   "execution_count": 4,
   "metadata": {},
   "outputs": [
    {
     "name": "stdout",
     "output_type": "stream",
     "text": [
      "Dictionary : A collection of key-value pairs.\n",
      "String : A series of characters.\n",
      "Boolean Expression :  An expression that evaluates to True or False.\n",
      "Comment : A note in a program that the Python interpreter ignores.\n",
      "Value : An item associated with a key in a dictionary.\n",
      "Loop : Work through a collection of items, one at a time. \n",
      "List : A collection of items in a particular order.\n",
      "Key : The first item in a key-value pair in a dictionary.\n",
      "Float : A numerical value with a decimal component.\n",
      "Def : Defines a function or method\n",
      "function : A parameterized sequence of statements.\n",
      "int : An immutable integer of unlimited magnitude.\n",
      "slice : Sub parts of sequences\n",
      "variables : Placeholder for texts and numbers.\n",
      "if statement : Conditionally executes a block of code, along with else and elif\n"
     ]
    }
   ],
   "source": [
    "print_dictionary(python_glossary)"
   ]
  },
  {
   "cell_type": "code",
   "execution_count": null,
   "metadata": {},
   "outputs": [],
   "source": []
  }
 ],
 "metadata": {
  "kernelspec": {
   "display_name": "Python 3",
   "language": "python",
   "name": "python3"
  },
  "language_info": {
   "codemirror_mode": {
    "name": "ipython",
    "version": 3
   },
   "file_extension": ".py",
   "mimetype": "text/x-python",
   "name": "python",
   "nbconvert_exporter": "python",
   "pygments_lexer": "ipython3",
   "version": "3.7.0"
  }
 },
 "nbformat": 4,
 "nbformat_minor": 2
}
