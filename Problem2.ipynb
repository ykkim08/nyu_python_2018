{
 "cells": [
  {
   "cell_type": "code",
   "execution_count": 1,
   "metadata": {},
   "outputs": [],
   "source": [
    "mymovies = {'Dumb and Dumber', 'Little Miss Sunshine',  'La La Land', 'About a boy', 'Mamma mia!', 'About Time'}"
   ]
  },
  {
   "cell_type": "code",
   "execution_count": 2,
   "metadata": {},
   "outputs": [],
   "source": [
    "mymovies.add('Mission Impossible: Fallout')"
   ]
  },
  {
   "cell_type": "code",
   "execution_count": 3,
   "metadata": {},
   "outputs": [
    {
     "name": "stdout",
     "output_type": "stream",
     "text": [
      "{'Little Miss Sunshine', 'Mamma mia!', 'Mission Impossible: Fallout', 'About a boy', 'About Time', 'Dumb and Dumber', 'La La Land'}\n"
     ]
    }
   ],
   "source": [
    "print(mymovies)"
   ]
  },
  {
   "cell_type": "code",
   "execution_count": 4,
   "metadata": {},
   "outputs": [],
   "source": [
    "hismovies = {'About a boy', 'Star Wars', 'Mission Impossible: Fallout'}"
   ]
  },
  {
   "cell_type": "code",
   "execution_count": 5,
   "metadata": {},
   "outputs": [],
   "source": [
    "hismovies.update({'Harry Potter', 'Lord of Rings', 'La La Land', 'Inception'})"
   ]
  },
  {
   "cell_type": "code",
   "execution_count": 6,
   "metadata": {},
   "outputs": [
    {
     "name": "stdout",
     "output_type": "stream",
     "text": [
      "{'Inception', 'Star Wars', 'La La Land', 'Lord of Rings', 'Harry Potter', 'Mission Impossible: Fallout', 'About a boy'}\n"
     ]
    }
   ],
   "source": [
    "print(hismovies)"
   ]
  },
  {
   "cell_type": "code",
   "execution_count": 7,
   "metadata": {},
   "outputs": [
    {
     "name": "stdout",
     "output_type": "stream",
     "text": [
      "{'La La Land', 'Mission Impossible: Fallout', 'About a boy'}\n"
     ]
    }
   ],
   "source": [
    "#find common movies\n",
    "common_movies = mymovies.intersection(hismovies)\n",
    "print(common_movies)"
   ]
  },
  {
   "cell_type": "code",
   "execution_count": 8,
   "metadata": {},
   "outputs": [
    {
     "name": "stdout",
     "output_type": "stream",
     "text": [
      "{'Little Miss Sunshine', 'About Time', 'Dumb and Dumber', 'Mamma mia!'}\n"
     ]
    }
   ],
   "source": [
    "#find my unique movies\n",
    "onlymy_movies = mymovies.difference(hismovies)\n",
    "print(onlymy_movies)"
   ]
  },
  {
   "cell_type": "code",
   "execution_count": null,
   "metadata": {},
   "outputs": [],
   "source": []
  }
 ],
 "metadata": {
  "kernelspec": {
   "display_name": "Python 3",
   "language": "python",
   "name": "python3"
  },
  "language_info": {
   "codemirror_mode": {
    "name": "ipython",
    "version": 3
   },
   "file_extension": ".py",
   "mimetype": "text/x-python",
   "name": "python",
   "nbconvert_exporter": "python",
   "pygments_lexer": "ipython3",
   "version": "3.7.0"
  }
 },
 "nbformat": 4,
 "nbformat_minor": 2
}
