{
 "cells": [
  {
   "cell_type": "code",
   "execution_count": 1,
   "metadata": {},
   "outputs": [],
   "source": [
    "mymorning = ('Wake up', 'Eat Breakfast', 'Take a shower', 'Go to work', 'Work')"
   ]
  },
  {
   "cell_type": "code",
   "execution_count": 2,
   "metadata": {},
   "outputs": [],
   "source": [
    "myafternoon = ('Eat lunch', 'Work', 'Go to Starbucks', 'Work')"
   ]
  },
  {
   "cell_type": "code",
   "execution_count": 3,
   "metadata": {},
   "outputs": [],
   "source": [
    "myevening = ('Go to yoga class', 'Come home', 'Eat dinner', 'Watch TV', 'Prepare for work tomorrow', 'Go to bed')"
   ]
  },
  {
   "cell_type": "code",
   "execution_count": 4,
   "metadata": {},
   "outputs": [
    {
     "name": "stdout",
     "output_type": "stream",
     "text": [
      "('Wake up', 'Eat Breakfast', 'Take a shower', 'Go to work', 'Work', 'Eat lunch', 'Work', 'Go to Starbucks', 'Work', 'Go to yoga class', 'Come home', 'Eat dinner', 'Watch TV', 'Prepare for work tomorrow', 'Go to bed')\n"
     ]
    }
   ],
   "source": [
    "myday = mymorning + myafternoon + myevening\n",
    "print(myday)"
   ]
  },
  {
   "cell_type": "code",
   "execution_count": null,
   "metadata": {},
   "outputs": [],
   "source": []
  }
 ],
 "metadata": {
  "kernelspec": {
   "display_name": "Python 3",
   "language": "python",
   "name": "python3"
  },
  "language_info": {
   "codemirror_mode": {
    "name": "ipython",
    "version": 3
   },
   "file_extension": ".py",
   "mimetype": "text/x-python",
   "name": "python",
   "nbconvert_exporter": "python",
   "pygments_lexer": "ipython3",
   "version": "3.7.0"
  }
 },
 "nbformat": 4,
 "nbformat_minor": 2
}
